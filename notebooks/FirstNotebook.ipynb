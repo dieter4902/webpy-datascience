{
 "cells": [
  {
   "cell_type": "code",
   "execution_count": null,
   "outputs": [],
   "source": [
    "from keras.datasets import mnist\n",
    "from keras.datasets import fashion_mnist\n",
    "from keras.layers import Dense\n",
    "from keras.models import Sequential\n",
    "from keras.utils.np_utils import to_categorical\n",
    "from matplotlib import pyplot as plt"
   ],
   "metadata": {
    "collapsed": false,
    "pycharm": {
     "name": "#%%\n"
    }
   }
  },
  {
   "cell_type": "code",
   "execution_count": null,
   "outputs": [],
   "source": [
    "# Setup train and test splits\n",
    "(x_train, y_train), (x_test, y_test) = fashion_mnist.load_data()"
   ],
   "metadata": {
    "collapsed": false,
    "pycharm": {
     "name": "#%%\n"
    }
   }
  },
  {
   "cell_type": "code",
   "execution_count": null,
   "outputs": [],
   "source": [
    "# Inspect train data\n",
    "print(\"Training data shape: \", x_train.shape)  # (60000, 28, 28) -- 60000 images, each 28x28 pixels\n",
    "\n",
    "# Show the first few train images as a plot\n",
    "for i in range(9):\n",
    "    plt.subplot(330 + 1 + i)  # Define subplot\n",
    "    plt.imshow(x_train[i], cmap=plt.get_cmap('gray'))  # Plot raw pixel data\n",
    "plt.show()"
   ],
   "metadata": {
    "collapsed": false,
    "pycharm": {
     "name": "#%%\n"
    }
   }
  },
  {
   "cell_type": "code",
   "execution_count": null,
   "outputs": [],
   "source": [
    "# Inspect test data\n",
    "print(\"Test data shape: \", x_test.shape)  # (10000, 28, 28) -- 10000 images, each 28x28 pixels\n",
    "\n",
    "# Show the first few test images as a plot\n",
    "for i in range(9):\n",
    "    plt.subplot(330 + 1 + i)  # Define subplot\n",
    "    plt.imshow(x_test[i], cmap=plt.get_cmap('gray'))  # Plot raw pixel data\n",
    "plt.show()"
   ],
   "metadata": {
    "collapsed": false,
    "pycharm": {
     "name": "#%%\n"
    }
   }
  },
  {
   "cell_type": "code",
   "execution_count": null,
   "outputs": [],
   "source": [
    "# Inspect labels\n",
    "print(\"Training labels shape: \", y_train.shape)  # (60000, 28, 28) -- 60000 numbers from the range 0, 1, ... 9\n",
    "print(\"Test labels shape: \", y_test.shape)  # (10000, 28, 28) -- 10000 numbers from the range 0, 1, ... 9\n",
    "print(\"First 10 training labels: \", y_train[:10])\n",
    "print(\"First 10 test labels: \", y_test[:10])"
   ],
   "metadata": {
    "collapsed": false,
    "pycharm": {
     "name": "#%%\n"
    }
   }
  },
  {
   "cell_type": "code",
   "execution_count": null,
   "outputs": [],
   "source": [
    "# Flatten the images\n",
    "image_vector_size = 28*28\n",
    "x_train = x_train.reshape(x_train.shape[0], image_vector_size)\n",
    "x_test = x_test.reshape(x_test.shape[0], image_vector_size)"
   ],
   "metadata": {
    "collapsed": false,
    "pycharm": {
     "name": "#%%\n"
    }
   }
  },
  {
   "cell_type": "code",
   "execution_count": null,
   "outputs": [],
   "source": [
    "# Re-inspect data shapes\n",
    "# 28 * 28 = 784\n",
    "print(\"Training data shape: \", x_train.shape)  # (60000, 784) -- 60000 images, each a flat series of 784 pixels\n",
    "print(\"Test data shape: \", x_test.shape)  # (10000, 784) -- 10000 images, a flat series of 784 pixels"
   ],
   "metadata": {
    "collapsed": false,
    "pycharm": {
     "name": "#%%\n"
    }
   }
  },
  {
   "cell_type": "code",
   "execution_count": null,
   "outputs": [],
   "source": [
    "# Convert to \"one-hot\" vectors using the to_categorical function\n",
    "num_classes = 10\n",
    "y_train = to_categorical(y_train, num_classes)\n",
    "y_test = to_categorical(y_test, num_classes)"
   ],
   "metadata": {
    "collapsed": false,
    "pycharm": {
     "name": "#%%\n"
    }
   }
  },
  {
   "cell_type": "code",
   "execution_count": null,
   "outputs": [],
   "source": [
    "# Re-inspect train labels\n",
    "print(\"First 10 training labels as one-hot encoded vectors:\\n\", y_train[:10])"
   ],
   "metadata": {
    "collapsed": false,
    "pycharm": {
     "name": "#%%\n"
    }
   }
  },
  {
   "cell_type": "code",
   "execution_count": null,
   "outputs": [],
   "source": [
    "# Re-inspect test labels\n",
    "print(\"First 10 test labels as one-hot encoded vectors:\\n\", y_test[:10])"
   ],
   "metadata": {
    "collapsed": false,
    "pycharm": {
     "name": "#%%\n"
    }
   }
  },
  {
   "cell_type": "code",
   "execution_count": null,
   "outputs": [],
   "source": [
    "# Define a neural network model\n",
    "image_size = 784\n",
    "num_classes = 10\n",
    "\n",
    "model = Sequential()  # Documentation: https://keras.io/models/sequential/\n",
    "\n",
    "# The input layer requires the special input_shape parameter which should match\n",
    "# the shape of our training data.\n",
    "model.add(Dense(units=32, activation='sigmoid', input_shape=(image_size,)))  # Dense = fully connected layers\n",
    "model.add(Dense(units=num_classes, activation='softmax'))\n",
    "model.compile(optimizer=\"sgd\", loss='categorical_crossentropy', metrics=['accuracy'])\n",
    "model.summary()"
   ],
   "metadata": {
    "collapsed": false,
    "pycharm": {
     "name": "#%%\n"
    }
   }
  },
  {
   "cell_type": "code",
   "execution_count": null,
   "outputs": [],
   "source": [
    "# Train the model and keep track of progress\n",
    "history = model.fit(x_train, y_train, batch_size=128, epochs=20, verbose=False, validation_split=.05)"
   ],
   "metadata": {
    "collapsed": false,
    "pycharm": {
     "name": "#%%\n"
    }
   }
  },
  {
   "cell_type": "code",
   "execution_count": null,
   "id": "004be54a",
   "metadata": {
    "pycharm": {
     "name": "#%%\n"
    }
   },
   "outputs": [],
   "source": []
  }
 ],
 "metadata": {
  "kernelspec": {
   "display_name": "Python 3 (ipykernel)",
   "language": "python",
   "name": "python3"
  },
  "language_info": {
   "codemirror_mode": {
    "name": "ipython",
    "version": 3
   },
   "file_extension": ".py",
   "mimetype": "text/x-python",
   "name": "python",
   "nbconvert_exporter": "python",
   "pygments_lexer": "ipython3",
   "version": "3.9.7"
  }
 },
 "nbformat": 4,
 "nbformat_minor": 5
}