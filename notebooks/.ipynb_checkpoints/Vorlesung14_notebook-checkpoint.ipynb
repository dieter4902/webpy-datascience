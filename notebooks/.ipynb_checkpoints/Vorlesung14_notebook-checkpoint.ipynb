{
 "cells": [
  {
   "cell_type": "code",
   "execution_count": 1,
   "id": "4f1da058",
   "metadata": {
    "pycharm": {
     "name": "#%%\n"
    }
   },
   "outputs": [],
   "source": [
    "import pandas\n",
    "import numpy\n",
    "from sklearn.model_selection import train_test_split, KFold\n",
    "from sklearn.feature_extraction.text import TfidfVectorizer\n",
    "from sklearn.linear_model import PassiveAggressiveClassifier\n",
    "from sklearn.metrics import accuracy_score, confusion_matrix, f1_score, recall_score, precision_score"
   ]
  },
  {
   "cell_type": "code",
   "execution_count": 2,
   "id": "13d7d886",
   "metadata": {
    "pycharm": {
     "name": "#%%\n"
    }
   },
   "outputs": [],
   "source": [
    "number_of_folds = 2"
   ]
  },
  {
   "cell_type": "code",
   "execution_count": 3,
   "id": "b1b21368",
   "metadata": {
    "pycharm": {
     "name": "#%%\n"
    }
   },
   "outputs": [],
   "source": [
    "# Read in the data\n",
    "data_frame = pandas.read_csv('../data/news.csv')  # read_csv returns a pandas.DataFrame"
   ]
  },
  {
   "cell_type": "code",
   "execution_count": 4,
   "id": "e7a57d71",
   "metadata": {
    "pycharm": {
     "name": "#%%\n"
    },
    "scrolled": false
   },
   "outputs": [
    {
     "name": "stdout",
     "output_type": "stream",
     "text": [
      "Dimensions of data: (6335, 4)\n",
      "First few items in data:\n",
      "      id                                              title  \\\n",
      "0   8476                       You Can Smell Hillary’s Fear   \n",
      "1  10294  Watch The Exact Moment Paul Ryan Committed Pol...   \n",
      "2   3608        Kerry to go to Paris in gesture of sympathy   \n",
      "3  10142  Bernie supporters on Twitter erupt in anger ag...   \n",
      "4    875   The Battle of New York: Why This Primary Matters   \n",
      "\n",
      "                                                text label  \n",
      "0  Daniel Greenfield, a Shillman Journalism Fello...  FAKE  \n",
      "1  Google Pinterest Digg Linkedin Reddit Stumbleu...  FAKE  \n",
      "2  U.S. Secretary of State John F. Kerry said Mon...  REAL  \n",
      "3  — Kaydee King (@KaydeeKing) November 9, 2016 T...  FAKE  \n",
      "4  It's primary day in New York and front-runners...  REAL  \n"
     ]
    }
   ],
   "source": [
    "# Visually verify that we read in the data correctly\n",
    "print('Dimensions of data:', data_frame.shape)\n",
    "print('First few items in data:')\n",
    "print(data_frame.head())"
   ]
  },
  {
   "cell_type": "code",
   "execution_count": 5,
   "id": "71df9b43",
   "metadata": {
    "pycharm": {
     "name": "#%%\n"
    }
   },
   "outputs": [
    {
     "name": "stdout",
     "output_type": "stream",
     "text": [
      "0       You Can Smell Hillary’s Fear / Daniel Greenfie...\n",
      "1       Watch The Exact Moment Paul Ryan Committed Pol...\n",
      "2       Kerry to go to Paris in gesture of sympathy / ...\n",
      "3       Bernie supporters on Twitter erupt in anger ag...\n",
      "4       The Battle of New York: Why This Primary Matte...\n",
      "                              ...                        \n",
      "6330    State Department says it can't find emails fro...\n",
      "6331    The ‘P’ in PBS Should Stand for ‘Plutocratic’ ...\n",
      "6332    Anti-Trump Protesters Are Tools of the Oligarc...\n",
      "6333    In Ethiopia, Obama seeks progress on peace, se...\n",
      "6334    Jeb Bush Is Suddenly Attacking Trump. Here's W...\n",
      "Name: combined, Length: 6335, dtype: object\n"
     ]
    }
   ],
   "source": [
    "# Construct a new column of <title + text>, that'll be the combined input textual data\n",
    "data_frame['combined'] = data_frame['title'] + ' / ' + data_frame['text']\n",
    "print(data_frame['combined'])"
   ]
  },
  {
   "cell_type": "code",
   "execution_count": 6,
   "id": "47c23825",
   "metadata": {
    "pycharm": {
     "name": "#%%\n"
    }
   },
   "outputs": [],
   "source": [
    "# Convert from pandas.DataFrame to numpy.array\n",
    "# because KFold.split() takes \"plain\" arrays as parameters\n",
    "data_array = numpy.array(data_frame['combined'])\n",
    "label_array = numpy.array(data_frame['label'])"
   ]
  },
  {
   "cell_type": "code",
   "execution_count": 7,
   "id": "940932da",
   "metadata": {
    "pycharm": {
     "name": "#%%\n"
    }
   },
   "outputs": [],
   "source": [
    "def learn_vocabulary(tfidf_vectorizer, data_train):\n",
    "    # Learn vocabulary, learn tf-idf matrix with training data, and return matrix\n",
    "    tfidf_train = tfidf_vectorizer.fit_transform(data_train)\n",
    "    # Now vocabulary is fixed\n",
    "    \n",
    "    return tfidf_vectorizer, tfidf_train"
   ]
  },
  {
   "cell_type": "code",
   "execution_count": 8,
   "id": "e1cd08af",
   "metadata": {
    "pycharm": {
     "name": "#%%\n"
    }
   },
   "outputs": [],
   "source": [
    "def apply_tfidf(tfidf_vectorizer, data_test):\n",
    "    # Apply tf-idf matrix to test data, and return matrix\n",
    "    tfidf_test = tfidf_vectorizer.transform(data_test)\n",
    "    \n",
    "    return tfidf_vectorizer, tfidf_test"
   ]
  },
  {
   "cell_type": "code",
   "execution_count": 9,
   "id": "ee399983",
   "metadata": {
    "pycharm": {
     "name": "#%%\n"
    }
   },
   "outputs": [],
   "source": [
    "def initialize_classifier():\n",
    "    # Initialize a PassiveAggressiveClassifier, that's our machine learning method\n",
    "    # Documentation:\n",
    "    # https://scikit-learn.org/stable/modules/generated/sklearn.linear_model.PassiveAggressiveClassifier.html\n",
    "    classifier = PassiveAggressiveClassifier(max_iter=50)  # Max iterations\n",
    "    \n",
    "    return classifier"
   ]
  },
  {
   "cell_type": "code",
   "execution_count": 10,
   "id": "9d16e482",
   "metadata": {
    "pycharm": {
     "name": "#%%\n"
    }
   },
   "outputs": [],
   "source": [
    "def train_classifier(classifier, tfidf_train, label_train):\n",
    "    # Train our classifier, i.e. train our model, i.e. run the machine learning method\n",
    "    classifier.fit(tfidf_train, label_train)\n",
    "    \n",
    "    return classifier"
   ]
  },
  {
   "cell_type": "code",
   "execution_count": 11,
   "id": "0091c167",
   "metadata": {
    "pycharm": {
     "name": "#%%\n"
    }
   },
   "outputs": [],
   "source": [
    "def apply_classifier(classifier, tfidf_test):\n",
    "    # Apply classifier to test data, i.e. predict labels for test data\n",
    "    label_predicted = classifier.predict(tfidf_test)\n",
    "    \n",
    "    return label_predicted"
   ]
  },
  {
   "cell_type": "code",
   "execution_count": 12,
   "id": "a6d8df05",
   "metadata": {
    "pycharm": {
     "name": "#%%\n"
    }
   },
   "outputs": [],
   "source": [
    "def print_results(label_test, label_predicted):\n",
    "    # Print results\n",
    "    accuracy = accuracy_score(label_test, label_predicted)\n",
    "    precision_real = precision_score(label_test, label_predicted, pos_label='REAL')\n",
    "    precision_fake = precision_score(label_test, label_predicted, pos_label='FAKE')\n",
    "    recall_real = recall_score(label_test, label_predicted, pos_label='REAL')\n",
    "    recall_fake = recall_score(label_test, label_predicted, pos_label='FAKE')\n",
    "    f1_real = f1_score(label_test, label_predicted, pos_label='REAL')\n",
    "    f1_fake = f1_score(label_test, label_predicted, pos_label='FAKE')\n",
    "    print()\n",
    "    print('Accuracy:', accuracy)\n",
    "    print('Precision REAL:', precision_real, 'FAKE:', precision_fake)\n",
    "    print('Recall    REAL:', recall_real, 'FAKE:', recall_fake)\n",
    "    print('F1        REAL:', f1_real, 'FAKE:', f1_fake)\n",
    "    print()\n",
    "    print('Confusion matrix:')\n",
    "    print(confusion_matrix(label_test, label_predicted, labels=['REAL', 'FAKE']))\n",
    "    \n",
    "    return accuracy"
   ]
  },
  {
   "cell_type": "code",
   "execution_count": 13,
   "id": "aed05edb",
   "metadata": {
    "pycharm": {
     "name": "#%%\n"
    }
   },
   "outputs": [
    {
     "name": "stdout",
     "output_type": "stream",
     "text": [
      "---------- fold 1 ----------\n",
      "\n",
      "Train: [3168 3169 3170 ... 6332 6333 6334]  --- Test: [   0    1    2 ... 3165 3166 3167]\n",
      "\n",
      "Accuracy: 0.9327651515151515\n",
      "Precision REAL: 0.9413298565840938 FAKE: 0.9247246022031824\n",
      "Recall    REAL: 0.9215060625398851 FAKE: 0.943785134291068\n",
      "F1        REAL: 0.9313124798452113 FAKE: 0.9341576506955177\n",
      "\n",
      "Confusion matrix:\n",
      "[[1444  123]\n",
      " [  90 1511]]\n",
      "\n",
      "---------- fold 2 ----------\n",
      "\n",
      "Train: [   0    1    2 ... 3165 3166 3167]  --- Test: [3168 3169 3170 ... 6332 6333 6334]\n",
      "\n",
      "Accuracy: 0.9239027470792548\n",
      "Precision REAL: 0.9288860918816866 FAKE: 0.9188846641318125\n",
      "Recall    REAL: 0.9201995012468828 FAKE: 0.927703134996801\n",
      "F1        REAL: 0.9245223927341059 FAKE: 0.9232728430436167\n",
      "\n",
      "Confusion matrix:\n",
      "[[1476  128]\n",
      " [ 113 1450]]\n",
      "\n",
      "Average accuracy: 0.9283339492972031\n"
     ]
    }
   ],
   "source": [
    "# Split the dataset into k train + test folds\n",
    "kfold = KFold(n_splits=number_of_folds)\n",
    "fold = 1\n",
    "accuracy_accumulated = 0.0\n",
    "\n",
    "for train_index, test_index in kfold.split(data_array):\n",
    "    # Beginning of one fold\n",
    "    print('---------- fold', fold, '----------')\n",
    "    print()\n",
    "    \n",
    "    data_train, data_test = data_array[train_index], data_array[test_index]\n",
    "    label_train, label_test = label_array[train_index], label_array[test_index]\n",
    "    \n",
    "    # For debugging purposes\n",
    "    #print('Test data:')\n",
    "    #print(data_test)\n",
    "    #print(data_test.shape)\n",
    "\n",
    "    #print('Test labels:')\n",
    "    #print(label_test)\n",
    "\n",
    "    #print('Train data:')\n",
    "    #print(data_train)\n",
    "    #print(data_train.shape)\n",
    "\n",
    "    #print('Train labels:')\n",
    "    #print(label_train)\n",
    "    \n",
    "    # To visualize which part of the data is train and which part is test\n",
    "    print('Train:', train_index, ' --- Test:', test_index)\n",
    "    \n",
    "    # Initialize a TfidfVectorizer\n",
    "    # Documentation:\n",
    "    # https://scikit-learn.org/stable/modules/generated/sklearn.feature_extraction.text.TfidfVectorizer.html\n",
    "    tfidf_vectorizer = TfidfVectorizer(\n",
    "        stop_words='english',  # E.g. a, the, we, are, therefore, where\n",
    "        max_df=0.7)  # Max document frequency\n",
    "    \n",
    "    tfidf_vectorizer, tfidf_train = learn_vocabulary(tfidf_vectorizer, data_train)\n",
    "    tfidf_vectorizer, tfidf_test = apply_tfidf(tfidf_vectorizer, data_test)\n",
    "    \n",
    "    # Initialize a PassiveAggressiveClassifier\n",
    "    classifier = initialize_classifier()\n",
    "    \n",
    "    # Train our classifier, i.e. train our model, i.e. run the machine learning method\n",
    "    classifier = train_classifier(classifier, tfidf_train, label_train)\n",
    "    \n",
    "    # Apply classifier to test data, i.e. predict labels for test data\n",
    "    label_predicted = apply_classifier(classifier, tfidf_test)\n",
    "    \n",
    "    # Print results and save the accuracy\n",
    "    accuracy = print_results(label_test, label_predicted)\n",
    "    accuracy_accumulated += accuracy\n",
    "    \n",
    "    # End of one fold\n",
    "    print()\n",
    "    fold += 1\n",
    "    \n",
    "# Report average accuracy\n",
    "accuracy_average = accuracy_accumulated / number_of_folds\n",
    "print('Average accuracy:', accuracy_average)"
   ]
  },
  {
   "cell_type": "code",
   "execution_count": null,
   "id": "ad64bd80",
   "metadata": {
    "pycharm": {
     "name": "#%%\n"
    }
   },
   "outputs": [],
   "source": []
  }
 ],
 "metadata": {
  "kernelspec": {
   "display_name": "Python 3 (ipykernel)",
   "language": "python",
   "name": "python3"
  },
  "language_info": {
   "codemirror_mode": {
    "name": "ipython",
    "version": 3
   },
   "file_extension": ".py",
   "mimetype": "text/x-python",
   "name": "python",
   "nbconvert_exporter": "python",
   "pygments_lexer": "ipython3",
   "version": "3.7.3"
  }
 },
 "nbformat": 4,
 "nbformat_minor": 5
}
